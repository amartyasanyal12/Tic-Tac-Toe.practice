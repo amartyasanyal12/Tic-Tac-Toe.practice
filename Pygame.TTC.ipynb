{
 "cells": [
  {
   "cell_type": "code",
   "execution_count": 1,
   "metadata": {},
   "outputs": [
    {
     "name": "stdout",
     "output_type": "stream",
     "text": [
      "pygame 2.0.1 (SDL 2.0.14, Python 3.8.5)\n",
      "Hello from the pygame community. https://www.pygame.org/contribute.html\n"
     ]
    },
    {
     "data": {
      "text/plain": [
       "(7, 0)"
      ]
     },
     "execution_count": 1,
     "metadata": {},
     "output_type": "execute_result"
    }
   ],
   "source": [
    "import pygame,sys\n",
    "import numpy as np\n",
    "pygame.init()"
   ]
  },
  {
   "cell_type": "code",
   "execution_count": 2,
   "metadata": {},
   "outputs": [],
   "source": [
    "width=600\n",
    "height=600\n",
    "LineColor=(23,145,135)\n",
    "line_width=15\n",
    "circle_radius=60\n",
    "circle_width=15\n",
    "cross_width=25\n",
    "space=55\n",
    "circle_color=(239,231,200)\n",
    "Blue=(28,170,156) #rgb formt-red/green/blue\n",
    "cross_color=(66,66,66)\n",
    "\n",
    "screen=pygame.display.set_mode((width,height))"
   ]
  },
  {
   "cell_type": "code",
   "execution_count": 3,
   "metadata": {},
   "outputs": [
    {
     "data": {
      "text/plain": [
       "<rect(0, 0, 600, 600)>"
      ]
     },
     "execution_count": 3,
     "metadata": {},
     "output_type": "execute_result"
    }
   ],
   "source": [
    "pygame.display.set_caption(\"TIC TAC TOE\")\n",
    "screen.fill(Blue)"
   ]
  },
  {
   "cell_type": "code",
   "execution_count": 4,
   "metadata": {},
   "outputs": [],
   "source": [
    "#pygame.draw.line(screen, LineColor, (10,10),(300,300),10)"
   ]
  },
  {
   "cell_type": "code",
   "execution_count": 5,
   "metadata": {},
   "outputs": [],
   "source": [
    "def draw_lines():\n",
    "    pygame.draw.line(screen,LineColor,(0,200),(600,200),line_width)\n",
    "    pygame.draw.line(screen,LineColor,(0,400),(600,400),line_width)\n",
    "    #vertical\n",
    "    pygame.draw.line(screen,LineColor,(200,0),(200,600),line_width)\n",
    "    pygame.draw.line(screen,LineColor,(400,0),(400,600),line_width)\n",
    "draw_lines()"
   ]
  },
  {
   "cell_type": "code",
   "execution_count": 6,
   "metadata": {},
   "outputs": [
    {
     "name": "stdout",
     "output_type": "stream",
     "text": [
      "[[0. 0. 0.]\n",
      " [0. 0. 0.]\n",
      " [0. 0. 0.]]\n"
     ]
    }
   ],
   "source": [
    "board_rows=3\n",
    "board_cols=3\n",
    "board=np.zeros((board_rows,board_cols))\n",
    "print(board)"
   ]
  },
  {
   "cell_type": "code",
   "execution_count": 7,
   "metadata": {},
   "outputs": [],
   "source": [
    "def mark_square(row,col,player):\n",
    "    board[row][col]=player"
   ]
  },
  {
   "cell_type": "code",
   "execution_count": 8,
   "metadata": {},
   "outputs": [],
   "source": [
    "def available_square(row,col):\n",
    "    return board[row][col]==0"
   ]
  },
  {
   "cell_type": "code",
   "execution_count": 9,
   "metadata": {},
   "outputs": [],
   "source": [
    "#mark_square(0,0,1)\n",
    "#mark_square(1,1,2)\n",
    "#print(available_square(1,1))\n",
    "#print(board)"
   ]
  },
  {
   "cell_type": "code",
   "execution_count": 10,
   "metadata": {},
   "outputs": [
    {
     "name": "stdout",
     "output_type": "stream",
     "text": [
      "False\n"
     ]
    }
   ],
   "source": [
    "def board_is_full():\n",
    "    for row in range(board_rows):\n",
    "        for col in range(board_cols):\n",
    "            if board[row][col]==0:\n",
    "                return False\n",
    "    return True\n",
    "\n",
    "print(board_is_full())"
   ]
  },
  {
   "cell_type": "code",
   "execution_count": 11,
   "metadata": {},
   "outputs": [
    {
     "data": {
      "text/plain": [
       "'for row in range(board_rows):\\n    for col in range(board_cols):\\n        mark_square(row,col,1)\\nprint(board_is_full())'"
      ]
     },
     "execution_count": 11,
     "metadata": {},
     "output_type": "execute_result"
    }
   ],
   "source": [
    "'''for row in range(board_rows):\n",
    "    for col in range(board_cols):\n",
    "        mark_square(row,col,1)\n",
    "print(board_is_full())'''"
   ]
  },
  {
   "cell_type": "code",
   "execution_count": 12,
   "metadata": {},
   "outputs": [],
   "source": [
    "player=1\n",
    "game_over=False"
   ]
  },
  {
   "cell_type": "code",
   "execution_count": 13,
   "metadata": {},
   "outputs": [],
   "source": [
    "def draw_figures():\n",
    "    for row in range(board_rows):\n",
    "        for col in range(board_cols):\n",
    "            if board[row][col]==1:\n",
    "                pygame.draw.circle(screen,circle_color,(int(col*200 + 100), int(row*200 + 100)),circle_radius,circle_width)\n",
    "            elif board[row][col]==2:\n",
    "                pygame.draw.line(screen,cross_color,(col*200+space,row*200+200-space),(col*200+200-space,row*200+space),cross_width)\n",
    "                pygame.draw.line(screen,cross_color,(col*200+space,row*200+space),(col*200+200-space,row*200+200-space),cross_width)\n",
    "                \n",
    "                "
   ]
  },
  {
   "cell_type": "code",
   "execution_count": 14,
   "metadata": {},
   "outputs": [],
   "source": [
    "def check_win(player):\n",
    "    #vertical\n",
    "    for col in range(board_cols):\n",
    "        if board[0][col]==player and board[1][col]==player and board[2][col]==player:\n",
    "            vertical_winning_line(col,player)\n",
    "            return True\n",
    "    #horizontal\n",
    "    for row in range(board_rows):\n",
    "        if board[row][0]==player and board[row][1]==player and board[row][2]==player:\n",
    "            horizontal_winning_line(row,player)\n",
    "            return True\n",
    "    #ascending diagonal\n",
    "    if board[2][0]==player and board[1][1]==player and board[0][2]:\n",
    "        asc_diagonal(player)\n",
    "        return True\n",
    "    #descending\n",
    "    if board[0][0]==player and board[1][1]==player and board[2][2]==player:\n",
    "        desc_diagonal(player)\n",
    "        return True\n",
    "    return False"
   ]
  },
  {
   "cell_type": "code",
   "execution_count": 15,
   "metadata": {},
   "outputs": [],
   "source": [
    "def vertical_winning_line(col,player):\n",
    "    posX=col*200+100\n",
    "    if player==1:\n",
    "        color=circle_color\n",
    "    elif player==2:\n",
    "        color=cross_color\n",
    "    pygame.draw.line(screen, color,(posX,15),(posX, height-15),15)"
   ]
  },
  {
   "cell_type": "code",
   "execution_count": 16,
   "metadata": {},
   "outputs": [],
   "source": [
    "def horizontal_winning_line(row,player):\n",
    "    posY=row*200+100\n",
    "    if player==1:\n",
    "        color=circle_color\n",
    "    elif player==2:\n",
    "        color=cross_color\n",
    "    pygame.draw.line(screen, color,(15,posY),(width-15,posY),15)"
   ]
  },
  {
   "cell_type": "code",
   "execution_count": 17,
   "metadata": {},
   "outputs": [],
   "source": [
    "def asc_diagonal(player):\n",
    "    if player==1:\n",
    "        color=circle_color\n",
    "    elif player==2:\n",
    "        color=cross_color\n",
    "    pygame.draw.line(screen,color,(15,height-15),(width-15,15),15)"
   ]
  },
  {
   "cell_type": "code",
   "execution_count": 18,
   "metadata": {},
   "outputs": [],
   "source": [
    "def desc_diagonal(player):\n",
    "    if player==1:\n",
    "        color=circle_color\n",
    "    elif player==2:\n",
    "        color=cross_color\n",
    "    pygame.draw.line(screen,color,(15,15),(width-15,height-15),15)"
   ]
  },
  {
   "cell_type": "code",
   "execution_count": 19,
   "metadata": {},
   "outputs": [],
   "source": [
    "def restart():\n",
    "    screen.fill(Blue)\n",
    "    draw_lines()\n",
    "    player=1\n",
    "    for row in range(board_rows):\n",
    "        for col in range(board_cols):\n",
    "            board[row][col]=0"
   ]
  },
  {
   "cell_type": "code",
   "execution_count": null,
   "metadata": {},
   "outputs": [
    {
     "name": "stdout",
     "output_type": "stream",
     "text": [
      "299\n",
      "112\n",
      "294\n",
      "274\n",
      "458\n",
      "36\n",
      "499\n",
      "529\n",
      "127\n",
      "79\n"
     ]
    }
   ],
   "source": [
    "while True:\n",
    "    for event in pygame.event.get():\n",
    "        if event.type==pygame.QUIT:\n",
    "            sys.exit()\n",
    "        if event.type==pygame.MOUSEBUTTONDOWN and not game_over:\n",
    "            mouseX=event.pos[0]#x\n",
    "            mouseY=event.pos[1]#y\n",
    "            print(mouseX)\n",
    "            print(mouseY)\n",
    "\n",
    "            clicked_row=int(mouseY//200)\n",
    "            clicked_col=int(mouseX//200)\n",
    "            \n",
    "            if available_square(clicked_row,clicked_col):\n",
    "                if player==1:\n",
    "                    mark_square(clicked_row,clicked_col,1)\n",
    "                    if check_win(player):\n",
    "                        game_over=True\n",
    "                    player=2\n",
    "                elif player==2:\n",
    "                    mark_square(clicked_row,clicked_col,2)\n",
    "                    if check_win(player):\n",
    "                        game_over=True\n",
    "                    player=1\n",
    "                draw_figures()\n",
    "        if event.type==pygame.KEYDOWN:\n",
    "            if event.key==pygame.K_y:\n",
    "                restart()\n",
    "                player=1\n",
    "                game_over=False\n",
    "    pygame.display.update()"
   ]
  },
  {
   "cell_type": "code",
   "execution_count": null,
   "metadata": {},
   "outputs": [],
   "source": []
  },
  {
   "cell_type": "code",
   "execution_count": null,
   "metadata": {},
   "outputs": [],
   "source": []
  }
 ],
 "metadata": {
  "kernelspec": {
   "display_name": "Python 3",
   "language": "python",
   "name": "python3"
  },
  "language_info": {
   "codemirror_mode": {
    "name": "ipython",
    "version": 3
   },
   "file_extension": ".py",
   "mimetype": "text/x-python",
   "name": "python",
   "nbconvert_exporter": "python",
   "pygments_lexer": "ipython3",
   "version": "3.8.5"
  }
 },
 "nbformat": 4,
 "nbformat_minor": 4
}
